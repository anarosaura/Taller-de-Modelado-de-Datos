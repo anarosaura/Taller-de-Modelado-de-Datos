{
 "cells": [
  {
   "cell_type": "markdown",
   "metadata": {},
   "source": [
    "___\n",
    "<img style=\"float: right; margin: 0px 0px 15px 15px;\" src=\"https://static.wixstatic.com/media/aa08c3_4431b1d1a196452bb094eb2f08d4c4eb.png/v1/fit/w_620%2Ch_277%2Cal_c/file.png\" width=\"350px\" height=\"180px\" />\n",
    "\n",
    "\n",
    "# <font color= #8A0829> Laboratorio de Modelado de Datos </font>\n",
    "- <Strong> Ana Rosaura Zamarrón Álvarez </Strong>\n",
    "- <Strong> Año </Strong>: 2021\n",
    "- <Strong> Email: </Strong>  <font color=\"blue\"> `ana.zamarron@iteso.mx` </font>\n",
    "___\n",
    "\n",
    "<p style=\"text-align:right;\"> Imagen recuperada de: https://static.wixstatic.com/media/aa08c3_4431b1d1a196452bb094eb2f08d4c4eb.png/v1/fit/w_620%2Ch_277%2Cal_c/file.png</p>\n",
    "\n",
    "### <font color= #2E9AFE> Tema: Regresión Lineal</font>"
   ]
  },
  {
   "cell_type": "markdown",
   "metadata": {},
   "source": [
    "La regresión es una técnica de aprendizaje supervisado que busca encontrar relación entre variables. \n",
    "Un problema de regresión es cuando la variable de salida es discreta o continuar. \n",
    "\n",
    "**¿Qué vamos a ver?**\n",
    "1. Qué es regresión?\n",
    "2. Cuál es el promedio de la regresión lineal y cuál es la importancia de la regresión?\n",
    "3. Impacto de distintos valores para la tasa de aprendizaje\n",
    "4. Implementar en Python"
   ]
  },
  {
   "cell_type": "markdown",
   "metadata": {},
   "source": [
    "**¿Qué es la regresión?**\n",
    "\n",
    "La regresión muestra una línea o curva que pasa por todos los puntos de datos en un gráfico de tal manera que la distancia vertical entre los puntos de datos y la línea de regresión es la mínima. \n",
    "\n",
    "Se usa principalmente para predicción pero también es muy usada para determinar la relación causa-efecto de las variables. \n",
    "\n",
    "Si hay una sola variable de entrada (x), dicha regresión lineal se denomina *regresión lineal simple*. Y si hay más de una variable de entrada, dicha regresión lineal se denomina *regresión lineal múltiple*.\n"
   ]
  },
  {
   "cell_type": "code",
   "execution_count": 1,
   "metadata": {},
   "outputs": [
    {
     "data": {
      "image/png": "[encoded data removed]",
      "text/plain": [
       "<Figure size 432x288 with 1 Axes>"
      ]
     },
     "metadata": {
      "needs_background": "light"
     },
     "output_type": "display_data"
    }
   ],
   "source": [
    "#Relación lineal positiva\n",
    "import matplotlib.pyplot as plt\n",
    "\n",
    "edad = [0.25, 0.5, 0.75, 1, 1.25, 1.5, 2, 3, 4, 5, 6, 7, 8]\n",
    "peso = [5.6, 7.3, 8.9, 9.5, 11, 11.5, 12.4, 14.4, 15.5, 17.4, 19.6, 21.2, 23.5]\n",
    "plt.scatter(edad, peso)\n",
    "plt.xlabel(\"Edad\")\n",
    "plt.ylabel(\"Peso\")\n",
    "plt.show()"
   ]
  },
  {
   "cell_type": "code",
   "execution_count": 2,
   "metadata": {},
   "outputs": [
    {
     "data": {
      "image/png": "[encoded data removed]",
      "text/plain": [
       "<Figure size 432x288 with 1 Axes>"
      ]
     },
     "metadata": {
      "needs_background": "light"
     },
     "output_type": "display_data"
    }
   ],
   "source": [
    "#Relacion lineal negativa\n",
    "import matplotlib.pyplot as plt\n",
    "\n",
    "Minutos = [6, 9, 12, 11, 4, 9, 2, 17, 2, 7, 8, 7, 5]\n",
    "Velocidad = [99, 86, 87, 88, 111, 86, 103, 87, 94, 78, 77, 85, 86]\n",
    "plt.scatter(Velocidad, Minutos)\n",
    "plt.xlabel(\"Velocidad\")\n",
    "plt.ylabel(\"Minutos\")\n",
    "plt.show()"
   ]
  },
  {
   "cell_type": "markdown",
   "metadata": {},
   "source": [
    "El gráfico presenta la relación lineal entre la variable dependiente (Y) y la variables independiente (X). Cuando el valor de x aumenta, el valor de y disminuye. \n",
    "\n",
    "Para calcular la línea que mejor se ajusta, la regresión lineal usa la forma tradicional de pendiente e intercepto:\n",
    "$$y=mx+b \\rightarrow y=a_{0}+a_{1}x$$\n",
    "\n",
    "- y= Variable dependiente\n",
    "- x = Variable independiente\n",
    "- $a_{0}$ = Intercepto de la línea\n",
    "- $a_{1}$ = Coeficiente de regresión lineal"
   ]
  },
  {
   "cell_type": "code",
   "execution_count": 3,
   "metadata": {},
   "outputs": [],
   "source": [
    "#Graficamos la línea ajustada de la regresión lineal\n",
    "from scipy import stats\n",
    "pendiente, intercepto, r, p, std_err = stats.linregress(Velocidad, Minutos)"
   ]
  },
  {
   "cell_type": "code",
   "execution_count": 4,
   "metadata": {},
   "outputs": [
    {
     "data": {
      "text/plain": [
       "-0.20564683142344337"
      ]
     },
     "execution_count": 4,
     "metadata": {},
     "output_type": "execute_result"
    }
   ],
   "source": [
    "pendiente"
   ]
  },
  {
   "cell_type": "code",
   "execution_count": 5,
   "metadata": {},
   "outputs": [
    {
     "data": {
      "text/plain": [
       "26.076142482396804"
      ]
     },
     "execution_count": 5,
     "metadata": {},
     "output_type": "execute_result"
    }
   ],
   "source": [
    "intercepto"
   ]
  },
  {
   "cell_type": "code",
   "execution_count": 6,
   "metadata": {},
   "outputs": [
    {
     "data": {
      "text/plain": [
       "5.717106171475912"
      ]
     },
     "execution_count": 6,
     "metadata": {},
     "output_type": "execute_result"
    }
   ],
   "source": [
    "#Calculando a mano la primer predicción\n",
    "y_pred1 = -0.20564683142344337*99 +26.076142482396804\n",
    "y_pred1"
   ]
  },
  {
   "cell_type": "code",
   "execution_count": 8,
   "metadata": {},
   "outputs": [
    {
     "data": {
      "image/png": "[encoded data removed]",
      "text/plain": [
       "<Figure size 432x288 with 1 Axes>"
      ]
     },
     "metadata": {
      "needs_background": "light"
     },
     "output_type": "display_data"
    }
   ],
   "source": [
    "def linReg(x):\n",
    "    return pendiente * x + intercepto\n",
    "\n",
    "mymodel = list(map(linReg, Velocidad))\n",
    "\n",
    "plt.scatter(Velocidad, Minutos)\n",
    "plt.plot(Velocidad, mymodel, 'r')\n",
    "plt.show()"
   ]
  },
  {
   "cell_type": "markdown",
   "metadata": {},
   "source": [
    "La línea roja se conoce como la línea recta de mejor ajuste. Con base en los puntos de datos dados, intentamos trazar una línea que modele mejor los puntos."
   ]
  },
  {
   "cell_type": "code",
   "execution_count": 9,
   "metadata": {},
   "outputs": [
    {
     "data": {
      "text/plain": [
       "[5.717106171475912,\n",
       " 8.390514979980676,\n",
       " 8.184868148557232,\n",
       " 7.9792213171337885,\n",
       " 3.2493441943945918,\n",
       " 8.390514979980676,\n",
       " 4.894518845782137,\n",
       " 8.184868148557232,\n",
       " 6.745340328593127,\n",
       " 10.035689631368221,\n",
       " 10.241336462791665,\n",
       " 8.59616181140412,\n",
       " 8.390514979980676]"
      ]
     },
     "execution_count": 9,
     "metadata": {},
     "output_type": "execute_result"
    }
   ],
   "source": [
    "mymodel"
   ]
  },
  {
   "cell_type": "markdown",
   "metadata": {},
   "source": [
    "#### Funcion de costo\n",
    "\n",
    "La función de costo ayuda a determinar los mejores valores posibles para a0 (intercepto) y a1 (pendiente), lo que proporciona la línea de mejor ajuste para los puntos de datos.\n",
    "\n",
    "La función de costo optimiza los coeficientes de regresión y mide cómo se está desempeñando un modelo de regresión lineal.\n",
    "\n",
    "En la regresión lineal, se utiliza la función de costo del error cuadrático medio (MSE), que es el promedio del error cuadrático que se produjo entre los valores predichos y los valores reales.\n",
    "\n",
    "$$MSE = \\frac{1}{N}\\sum_{i=1}^{n}(y_{i}-(mx_{i}+b))^{2}$$"
   ]
  },
  {
   "cell_type": "markdown",
   "metadata": {},
   "source": [
    "#### Gradiente Descendente\n",
    "\n",
    "Es un método que va actualizando a0 y a1 para minimizar la función de costo (MSE). \n",
    "\n",
    "Un modelo de regresión usa el gradiente descendiente para actualizar los coeficientes de la línea al reducir la función de costo mediante una selección aleatoria de valores de coeficientes y luego actualizar iterativamente los valores para alcanzar la función de costo mínimo.\n",
    "\n",
    "**Ejemplo**\n",
    "\n",
    "Tomaremos números aleatorios para crear la variable dependiente (salario) y una variable independiente (experiencia) y predeciremos el impacto de un año de experiencia en el salario."
   ]
  },
  {
   "cell_type": "code",
   "execution_count": 10,
   "metadata": {},
   "outputs": [
    {
     "data": {
      "image/png": "[encoded data removed]",
      "text/plain": [
       "<Figure size 432x288 with 1 Axes>"
      ]
     },
     "metadata": {
      "needs_background": "light"
     },
     "output_type": "display_data"
    }
   ],
   "source": [
    "import matplotlib.pyplot as plt\n",
    "import pandas as pd\n",
    "import numpy as np\n",
    "\n",
    "experiencia= np.array([2.4,5.0,1.5,3.8,8.7,3.6,1.2,8.1,2.5,5,1.6,1.6,2.4,3.9,5.4])\n",
    "salario = np.array([2.1,4.7,1.7,3.6,8.7,3.2,1.0,8.0,2.4,6,1.1,1.3,2.4,3.9,4.8])\n",
    "n = np.size(salario)\n",
    "plt.scatter(experiencia,salario, color = 'red')\n",
    "plt.xlabel(\"Experience\")\n",
    "plt.ylabel(\"Salary\")\n",
    "plt.show()"
   ]
  },
  {
   "cell_type": "markdown",
   "metadata": {},
   "source": [
    "Calculando los coeficientes:\n",
    "\n",
    "1. Inicializar los parámetros\n",
    "2. Predecir la \"Y\" \n",
    "3. Calcule el error en la predicción para todos los puntos de datos.\n",
    "4. Calcule la derivada parcial de la función de costo contra a0 y a1.\n",
    "5. Calcula el costo de cada número y súmalos.\n",
    "6. Actualice los valores de a0 y a1."
   ]
  },
  {
   "cell_type": "code",
   "execution_count": 11,
   "metadata": {},
   "outputs": [
    {
     "name": "stdout",
     "output_type": "stream",
     "text": [
      "-0.21354150071690242\n",
      "1.0247464287610857\n"
     ]
    }
   ],
   "source": [
    "#Regresión lineal manualmente...\n",
    "#initializar parámetros\n",
    "a0 = 0                  #intercepto\n",
    "a1 = 0                  #pendiente\n",
    "lr = 0.0001             #tasa aprendizaje\n",
    "iterations = 1000       #número de iteraciones\n",
    "error = []              #calcular el costo para cada iteración.\n",
    "for itr in range(iterations):\n",
    "    error_cost = 0\n",
    "    cost_a0 = 0\n",
    "    cost_a1 = 0\n",
    "    for i in range(len(experiencia)):\n",
    "        y_pred = a0+a1*experiencia[i]   # predecir la Y para cada X dada\n",
    "        error_cost = error_cost +(salario[i]-y_pred)**2\n",
    "        for j in range(len(experiencia)):\n",
    "            partial_wrt_a0 = -2 *(salario[j] - (a0 + a1*experiencia[j]))                #derivada parcial de a0\n",
    "            partial_wrt_a1 = (-2*experiencia[j])*(salario[j]-(a0 + a1*experiencia[j]))   #derivada parcial de a1\n",
    "            cost_a0 = cost_a0 + partial_wrt_a0      #calcular el costo para número y sumar\n",
    "            cost_a1 = cost_a1 + partial_wrt_a1      #calcular el costo para número y sumar\n",
    "        a0 = a0 - lr * cost_a0    #actualizar a0\n",
    "        a1 = a1 - lr * cost_a1    #actualizar a1\n",
    "        error.append(error_cost)      #arreglo con los errores\n",
    "        \n",
    "print(a0)\n",
    "print(a1)"
   ]
  },
  {
   "cell_type": "code",
   "execution_count": 12,
   "metadata": {},
   "outputs": [
    {
     "data": {
      "text/plain": [
       "array([ 1.02474643, -0.2135415 ])"
      ]
     },
     "execution_count": 12,
     "metadata": {},
     "output_type": "execute_result"
    }
   ],
   "source": [
    "#con numpy\n",
    "experiencia1= np.squeeze(np.array(experiencia))\n",
    "salario1 =np.squeeze(np.array(salario))\n",
    "\n",
    "modelo_numpy = np.polyfit(experiencia1, salario1, 1)\n",
    "modelo_numpy"
   ]
  },
  {
   "cell_type": "code",
   "execution_count": 13,
   "metadata": {},
   "outputs": [
    {
     "name": "stdout",
     "output_type": "stream",
     "text": [
      "[2.24584993 4.91019064 1.32357814 3.68049493 8.70175243 3.47554564\n",
      " 1.01615421 8.08690457 2.34832457 4.91019064 1.42605279 1.42605279\n",
      " 2.24584993 3.78296957 5.32008921]\n"
     ]
    }
   ],
   "source": [
    "#predecir el salario con los coeficientes que acabamos de encontrar\n",
    "pred = a0+a1*experiencia\n",
    "print(pred)"
   ]
  },
  {
   "cell_type": "code",
   "execution_count": 14,
   "metadata": {},
   "outputs": [
    {
     "data": {
      "text/plain": [
       "Text(0, 0.5, 'salario')"
      ]
     },
     "execution_count": 14,
     "metadata": {},
     "output_type": "execute_result"
    },
    {
     "data": {
      "image/png": "[encoded data removed]",
      "text/plain": [
       "<Figure size 432x288 with 1 Axes>"
      ]
     },
     "metadata": {
      "needs_background": "light"
     },
     "output_type": "display_data"
    }
   ],
   "source": [
    "#graficamos\n",
    "plt.scatter(experiencia,salario,color = 'red')\n",
    "plt.plot(experiencia,pred, color = 'green')\n",
    "plt.xlabel(\"experiencia\")\n",
    "plt.ylabel(\"salario\")"
   ]
  },
  {
   "cell_type": "code",
   "execution_count": 15,
   "metadata": {},
   "outputs": [
    {
     "name": "stdout",
     "output_type": "stream",
     "text": [
      "el error cuadrático medio (MSE) es: 0.12785817711928918\n"
     ]
    }
   ],
   "source": [
    "#qué tan bueno es mi modelo?\n",
    "\n",
    "#Error cuadrático medio\n",
    "error1 = salario - pred\n",
    "se = np.sum(error1 ** 2)\n",
    "mse = se/n\n",
    "print(\"el error cuadrático medio (MSE) es:\", mse)"
   ]
  },
  {
   "cell_type": "code",
   "execution_count": 16,
   "metadata": {},
   "outputs": [
    {
     "name": "stdout",
     "output_type": "stream",
     "text": [
      "la R2 es: 0.9763272358942761\n"
     ]
    }
   ],
   "source": [
    "#R2\n",
    "pred = np.poly1d(modelo_numpy)\n",
    "yhat = pred(experiencia)                       \n",
    "ybar = np.sum(salario)/len(salario)          \n",
    "sstot = np.sum((salario - ybar)**2) \n",
    "ssreg = np.sum((yhat-ybar)**2)  \n",
    "results = ssreg / sstot\n",
    "print(\"la R2 es:\", results)"
   ]
  },
  {
   "cell_type": "markdown",
   "metadata": {},
   "source": [
    "No se preocupen... todo esto se puede hacer rápido en sklearn"
   ]
  },
  {
   "cell_type": "code",
   "execution_count": 17,
   "metadata": {},
   "outputs": [
    {
     "name": "stdout",
     "output_type": "stream",
     "text": [
      "pendiente [1.02474643]\n",
      "Intercepto -0.2135415007169037\n",
      "MSE 0.1278581771192891\n"
     ]
    }
   ],
   "source": [
    "from sklearn.linear_model import LinearRegression\n",
    "from sklearn.metrics import mean_squared_error, r2_score\n",
    "from sklearn.model_selection import train_test_split\n",
    "\n",
    "experiencia = experiencia.reshape(-1,1)\n",
    "model = LinearRegression()\n",
    "model.fit(experiencia,salario)\n",
    "salario_pred = model.predict(experiencia)\n",
    "Mse = mean_squared_error(salario, salario_pred)\n",
    "print('pendiente', model.coef_)\n",
    "print(\"Intercepto\", model.intercept_)\n",
    "print(\"MSE\", Mse)"
   ]
  },
  {
   "cell_type": "code",
   "execution_count": 18,
   "metadata": {},
   "outputs": [
    {
     "name": "stdout",
     "output_type": "stream",
     "text": [
      "R2 0.976327235894276\n"
     ]
    }
   ],
   "source": [
    "r2 = r2_score(salario, salario_pred)\n",
    "print(\"R2\", r2)"
   ]
  },
  {
   "cell_type": "markdown",
   "metadata": {},
   "source": [
    "**¿Cómo se interpreta?**\n",
    "\n",
    "*Los Coeficientes:* Por cada año extra que una persona trabaje (osea por cada año de experiencia), el salario aumenta en 1.024 \n",
    "\n",
    "*La R2:* La experiencia explica 97% de la variación del salario de la persona.  "
   ]
  },
  {
   "cell_type": "markdown",
   "metadata": {},
   "source": [
    "Acuérdense de... todos los datos no los usamos! los de entrenamiento nada más para ajustar el modelo"
   ]
  },
  {
   "cell_type": "code",
   "execution_count": 19,
   "metadata": {},
   "outputs": [
    {
     "name": "stdout",
     "output_type": "stream",
     "text": [
      "pendiente [1.04196502]\n",
      "Intercepto -0.22485091666851442\n",
      "MSE 0.09640474566825234\n"
     ]
    }
   ],
   "source": [
    "#test train split\n",
    "X_train, X_test, y_train, y_test = train_test_split(experiencia, salario, test_size=0.3, random_state=5)\n",
    "model = LinearRegression()\n",
    "model.fit(X_train,y_train)\n",
    "salario_pred = model.predict(X_test)\n",
    "Mse = mean_squared_error(y_test, salario_pred)\n",
    "print('pendiente', model.coef_)\n",
    "print(\"Intercepto\", model.intercept_)\n",
    "print(\"MSE\", Mse)"
   ]
  },
  {
   "cell_type": "code",
   "execution_count": 20,
   "metadata": {},
   "outputs": [
    {
     "name": "stdout",
     "output_type": "stream",
     "text": [
      "R2 0.9841917969191505\n"
     ]
    }
   ],
   "source": [
    "r2 = r2_score(y_test, salario_pred)\n",
    "print(\"R2\", r2)"
   ]
  },
  {
   "cell_type": "code",
   "execution_count": 21,
   "metadata": {},
   "outputs": [
    {
     "name": "stdout",
     "output_type": "stream",
     "text": [
      "MSE 0.09369849852903535\n"
     ]
    }
   ],
   "source": [
    "#cross validation\n",
    "from sklearn.model_selection import cross_val_score\n",
    "lm=LinearRegression()\n",
    "a= (-cross_val_score(lm, experiencia,salario, cv=10,  scoring='neg_root_mean_squared_error')).mean()\n",
    "print(\"MSE\", a**2)"
   ]
  },
  {
   "cell_type": "markdown",
   "metadata": {},
   "source": [
    "### Regularización\n",
    "\n",
    "Es añadir un término de penalización a los coeficientes. Este tipo de modelos funciona muy bien cuando tenemos más de una variable predictora (X)\n",
    "\n",
    "#### Ridge Regression\n",
    "\n",
    "La regresión de Ridge ayuda a reducir la Varianza al reducir el tamaño de los parámetros y haciendo que nuestras predicciones sean menos sensibles a los parámetros. \n",
    "\n",
    "$$Ridge = \\sum_{i=1}^{n}(y_{i}-f(x_{i}))^{2}+\\lambda\\sum_{j=1}^{p}\\beta_{j}^{2}$$\n",
    "\n",
    "**¿Cuándo se recomienda usar?**\n",
    "Sobre todo cuando tenemos pocos datos, ya que la regresión de Ridge mejora las predicciones hechas con nuevos datos (reduce la varianza), haciendo que las predicciones sean menos sensibles a los datos de entrenamiento. "
   ]
  },
  {
   "cell_type": "markdown",
   "metadata": {},
   "source": [
    "- No se ajusta tan bien a los datos de prueba para poder ajustarse mejor a los datos de entrenamiento.\n",
    "- La __varianza es menor__\n",
    "- Tiene __más bias__ (algo de error para que el ajuste no ajsute tan bien los datos de entrenamiento)\n",
    "- sirve cuando tenemos poquitos datos"
   ]
  },
  {
   "cell_type": "code",
   "execution_count": 22,
   "metadata": {},
   "outputs": [
    {
     "name": "stdout",
     "output_type": "stream",
     "text": [
      "MSE 0.12876339410979126\n",
      "R2 0.9761596362243647\n"
     ]
    }
   ],
   "source": [
    "from sklearn.linear_model import Ridge\n",
    "clf = Ridge(alpha=1)\n",
    "clf.fit(experiencia,salario)\n",
    "salario_pred = clf.predict(experiencia)\n",
    "Mse = mean_squared_error(salario, salario_pred)\n",
    "r2 = r2_score(salario, salario_pred)\n",
    "print(\"MSE\", Mse)\n",
    "print(\"R2\", r2)"
   ]
  },
  {
   "cell_type": "code",
   "execution_count": 23,
   "metadata": {},
   "outputs": [
    {
     "name": "stdout",
     "output_type": "stream",
     "text": [
      "MSE 0.08712333478470628\n",
      "R2 0.9857137388848376\n"
     ]
    }
   ],
   "source": [
    "#test train split\n",
    "X_train, X_test, y_train, y_test = train_test_split(experiencia, salario, test_size=0.3, random_state=5)\n",
    "model = Ridge(alpha=1)\n",
    "model.fit(X_train,y_train)\n",
    "salario_pred = model.predict(X_test)\n",
    "Mse = mean_squared_error(y_test, salario_pred)\n",
    "print(\"MSE\", Mse)\n",
    "r2 = r2_score(y_test, salario_pred)\n",
    "print(\"R2\", r2)"
   ]
  },
  {
   "cell_type": "code",
   "execution_count": 24,
   "metadata": {},
   "outputs": [
    {
     "name": "stdout",
     "output_type": "stream",
     "text": [
      "alfa: 0.430000\n",
      "MSE 0.14537064440575004\n"
     ]
    }
   ],
   "source": [
    "#Cross Validation\n",
    "from sklearn.linear_model import RidgeCV\n",
    "model = RidgeCV(alphas=np.arange(0,1,0.01), cv=10, scoring='neg_mean_squared_error') \n",
    "model.fit(experiencia, salario)\n",
    "print('alfa: %f' % model.alpha_)\n",
    "print('MSE',-model.best_score_)"
   ]
  },
  {
   "cell_type": "markdown",
   "metadata": {},
   "source": [
    "#### LASSO Regularization\n",
    "\n",
    "La ventaja de LASSO es que dentro de su proceso, hace que ciertos coeficientes se hagan cero y por lo tanto tiene un proceso de selección de variables interno. \n",
    "\n",
    "$$LASSO = \\sum_{i=1}^{n}(y_{i}-f(x_{i}))^{2}+\\lambda\\sum_{j=1}^{p}|\\beta_{j}|$$"
   ]
  },
  {
   "cell_type": "code",
   "execution_count": 25,
   "metadata": {},
   "outputs": [
    {
     "name": "stdout",
     "output_type": "stream",
     "text": [
      "MSE 0.3269978935443325\n",
      "R2 0.9394567936806928\n"
     ]
    }
   ],
   "source": [
    "from sklearn.linear_model import Lasso\n",
    "clf = Lasso(alpha=1)\n",
    "clf.fit(experiencia,salario)\n",
    "salario_pred = clf.predict(experiencia)\n",
    "Mse = mean_squared_error(salario, salario_pred)\n",
    "r2 = r2_score(salario, salario_pred)\n",
    "print(\"MSE\", Mse)\n",
    "print(\"R2\", r2)"
   ]
  },
  {
   "cell_type": "code",
   "execution_count": 26,
   "metadata": {},
   "outputs": [
    {
     "name": "stdout",
     "output_type": "stream",
     "text": [
      "MSE 0.2731327194323603\n",
      "R2 0.955212396787295\n"
     ]
    }
   ],
   "source": [
    "#test train split\n",
    "X_train, X_test, y_train, y_test = train_test_split(experiencia, salario, test_size=0.3, random_state=5)\n",
    "model = Lasso(alpha=1)\n",
    "model.fit(X_train,y_train)\n",
    "salario_pred = model.predict(X_test)\n",
    "Mse = mean_squared_error(y_test, salario_pred)\n",
    "print(\"MSE\", Mse)\n",
    "r2 = r2_score(y_test, salario_pred)\n",
    "print(\"R2\", r2)"
   ]
  },
  {
   "cell_type": "code",
   "execution_count": 27,
   "metadata": {},
   "outputs": [
    {
     "name": "stdout",
     "output_type": "stream",
     "text": [
      "lambda: 0.030000\n",
      "R2 0.9762940524962838\n"
     ]
    }
   ],
   "source": [
    "#Cross Validation\n",
    "from sklearn.linear_model import LassoCV\n",
    "model = LassoCV(alphas=np.arange(0.01,1,0.01), cv=10, random_state=5).fit(experiencia, salario) \n",
    "print('lambda: %f' % model.alpha_)\n",
    "print('R2',model.score(experiencia, salario))"
   ]
  },
  {
   "cell_type": "markdown",
   "metadata": {},
   "source": [
    "-La única diferencia entre ridge y lasso es que la linea de lasso puede ser completamente horizontal."
   ]
  },
  {
   "cell_type": "markdown",
   "metadata": {},
   "source": [
    "El cross validation de LASSO CV tiene por default la métrica de la $R^{2}$, se necesitaría usar otro método para calcular el MSE"
   ]
  },
  {
   "cell_type": "markdown",
   "metadata": {},
   "source": [
    "**¿Cuándo las utilizo?**\n",
    "- Ridge es mejor cuando la mayoría de mis variables son útiles\n",
    "- LASSO excluye automáticamente variables inútiles del modelo"
   ]
  }
 ],
 "metadata": {
  "kernelspec": {
   "display_name": "Python 3",
   "language": "python",
   "name": "python3"
  },
  "language_info": {
   "codemirror_mode": {
    "name": "ipython",
    "version": 3
   },
   "file_extension": ".py",
   "mimetype": "text/x-python",
   "name": "python",
   "nbconvert_exporter": "python",
   "pygments_lexer": "ipython3",
   "version": "3.8.8"
  }
 },
 "nbformat": 4,
 "nbformat_minor": 4
}
